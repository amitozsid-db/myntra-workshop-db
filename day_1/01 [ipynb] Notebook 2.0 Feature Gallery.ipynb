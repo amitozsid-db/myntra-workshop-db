{
 "cells": [
  {
   "cell_type": "markdown",
   "metadata": {
    "application/vnd.databricks.v1+cell": {
     "cellMetadata": {},
     "inputWidgets": {},
     "nuid": "a29c7c71-f70b-4748-a781-883aa1e4754d",
     "showTitle": false,
     "title": ""
    }
   },
   "source": [
    "### Improved code editing with Monaco"
   ]
  },
  {
   "cell_type": "markdown",
   "metadata": {
    "application/vnd.databricks.v1+cell": {
     "cellMetadata": {},
     "inputWidgets": {},
     "nuid": "3bf5d2ab-f259-40ff-836f-b4ac347153ed",
     "showTitle": false,
     "title": ""
    }
   },
   "source": [
    "### Autocomplete-as-you-type\n",
    "<br>\n",
    "<img src=\"https://github.com/databricks/notebook_gallery/blob/main/assets/bordered/autocomplete.gif?raw=true\" width=600/>"
   ]
  },
  {
   "cell_type": "code",
   "execution_count": 0,
   "metadata": {
    "application/vnd.databricks.v1+cell": {
     "cellMetadata": {},
     "inputWidgets": {},
     "nuid": "189581ed-9d29-41bf-a457-d138ab7a2e5b",
     "showTitle": false,
     "title": ""
    }
   },
   "outputs": [],
   "source": [
    "import numpy as np\n",
    "\n",
    "# Type the following on the next line: a = np.array([1,2,3])\n"
   ]
  },
  {
   "cell_type": "markdown",
   "metadata": {
    "application/vnd.databricks.v1+cell": {
     "cellMetadata": {},
     "inputWidgets": {},
     "nuid": "d33b6f41-8da1-4329-829a-03ea42d0c5e2",
     "showTitle": false,
     "title": ""
    }
   },
   "source": [
    "#### Variable inspection on mouse hover\n",
    "<br>\n",
    "<img src=\"https://github.com/databricks/notebook_gallery/blob/main/assets/bordered/variableinspection.gif?raw=true\" width=600/>"
   ]
  },
  {
   "cell_type": "code",
   "execution_count": 0,
   "metadata": {
    "application/vnd.databricks.v1+cell": {
     "cellMetadata": {},
     "inputWidgets": {},
     "nuid": "7f3e0a8c-994d-4ea2-b311-abef20344ed3",
     "showTitle": false,
     "title": ""
    }
   },
   "outputs": [],
   "source": [
    "# Run this cell then hover over 'variable' on line 3\n",
    "variable = np.array([1,2,3])\n",
    "variable"
   ]
  },
  {
   "cell_type": "markdown",
   "metadata": {
    "application/vnd.databricks.v1+cell": {
     "cellMetadata": {},
     "inputWidgets": {},
     "nuid": "64b2f432-2bbf-4b85-8b15-897d8d953acd",
     "showTitle": false,
     "title": ""
    }
   },
   "source": [
    "#### Code Folding & Bracket Matching\n",
    "\n",
    "Code blocks can be collapsed by clicking the arrow icon next to them:\n",
    "\n",
    "<img src=\"https://github.com/databricks/notebook_gallery/blob/main/assets/bordered/codefold.gif?raw=true\" width=600/>\n",
    "\n",
    "Clicking next to a bracket will highlight the corresponding bracket further down in the code:\n",
    "\n",
    "<img src=\"https://github.com/databricks/notebook_gallery/blob/main/assets/bordered/brackets.gif?raw=true\" width=600/>"
   ]
  },
  {
   "cell_type": "code",
   "execution_count": 0,
   "metadata": {
    "application/vnd.databricks.v1+cell": {
     "cellMetadata": {},
     "inputWidgets": {},
     "nuid": "64060428-cd72-411a-b904-e6df677e9a5a",
     "showTitle": false,
     "title": ""
    }
   },
   "outputs": [],
   "source": [
    "# Collapse and expand code blocks on lines 8, 16, 23 and 30\n",
    "!pip install folium --quiet\n",
    "\n",
    "import json\n",
    "import folium\n",
    "import requests\n",
    "\n",
    "url = (\n",
    "    \"https://raw.githubusercontent.com/python-visualization/folium/master/examples/data\"\n",
    ")\n",
    "vis1 = json.loads(requests.get(f\"{url}/vis1.json\").text)\n",
    "vis2 = json.loads(requests.get(f\"{url}/vis2.json\").text)\n",
    "vis3 = json.loads(requests.get(f\"{url}/vis3.json\").text)\n",
    "m = folium.Map(location=[46.3014, -123.7390], zoom_start=7, tiles=\"Stamen Terrain\")\n",
    "\n",
    "folium.Marker(\n",
    "    location=[47.3489, -124.708],\n",
    "    popup=folium.Popup(max_width=450).add_child(\n",
    "        folium.Vega(vis1, width=450, height=250)\n",
    "    ),\n",
    ").add_to(m)\n",
    "\n",
    "folium.Marker(\n",
    "    location=[44.639, -124.5339],\n",
    "    popup=folium.Popup(max_width=450).add_child(\n",
    "        folium.Vega(vis2, width=450, height=250)\n",
    "    ),\n",
    ").add_to(m)\n",
    "\n",
    "folium.Marker(\n",
    "    location=[46.216, -124.1280],\n",
    "    popup=folium.Popup(max_width=450).add_child(\n",
    "        folium.Vega(vis3, width=450, height=250)\n",
    "    ),\n",
    ").add_to(m)\n",
    "\n",
    "m"
   ]
  },
  {
   "cell_type": "markdown",
   "metadata": {
    "application/vnd.databricks.v1+cell": {
     "cellMetadata": {},
     "inputWidgets": {},
     "nuid": "ec5c7c61-d1fd-4a61-a69b-c40f48ad4381",
     "showTitle": false,
     "title": ""
    }
   },
   "source": [
    "#### Multi-cursor support\n",
    "<br>\n",
    "<img src=\"https://github.com/databricks/notebook_gallery/blob/main/assets/bordered/multicursor.gif?raw=true\" width=600>\n",
    "\n",
    "Monaco supports multiple cursors for fast simultaneous edits. You can add secondary cursors (rendered thinner) with `Alt+Click` on Windows. Each cursor operates independently based on the context it sits in. A common way to add more cursors is with `⌥⌘↓` or `⌥⌘↑` that insert cursors below or above. ([source](https://code.visualstudio.com/Docs/editor/codebasics#_multiple-selections-multicursor))"
   ]
  },
  {
   "cell_type": "code",
   "execution_count": 0,
   "metadata": {
    "application/vnd.databricks.v1+cell": {
     "cellMetadata": {},
     "inputWidgets": {},
     "nuid": "cdcdbf69-ee44-40ef-8141-ba64a2dcd783",
     "showTitle": false,
     "title": ""
    }
   },
   "outputs": [],
   "source": [
    "# Place your cursor on line 2, then press option+command+down ( ⌥⌘↓ ) to create additional cursors on lines 3 and 4\n"
   ]
  },
  {
   "cell_type": "markdown",
   "metadata": {
    "application/vnd.databricks.v1+cell": {
     "cellMetadata": {},
     "inputWidgets": {},
     "nuid": "6ea49373-7dc0-41b1-9b45-65966d2099b3",
     "showTitle": false,
     "title": ""
    }
   },
   "source": [
    "#### Column (box) selection\n",
    "<br>\n",
    "<img src=\"https://github.com/databricks/notebook_gallery/blob/main/assets/bordered/boxselection.gif?raw=true\" width=600/>\n",
    "\n",
    "Place the cursor in one corner and then hold `Shift+Alt` (or `Shift+option` on Mac) while dragging to the opposite corner. ([source](https://code.visualstudio.com/Docs/editor/codebasics#_column-box-selection))"
   ]
  },
  {
   "cell_type": "code",
   "execution_count": 0,
   "metadata": {
    "application/vnd.databricks.v1+cell": {
     "cellMetadata": {},
     "inputWidgets": {},
     "nuid": "f6c81cea-76b9-4fc1-b9db-d245e0a475de",
     "showTitle": false,
     "title": ""
    }
   },
   "outputs": [],
   "source": [
    "print(\"\"\"\n",
    "\"Braund, Mr. Owen Harris\",male,22.0,1\n",
    "\"Cumings, Mrs. John Bradley (Florence Briggs Thayer)\",female,38.0,1\n",
    "\"Heikkinen, Miss. Laina\",female,26.0,0\n",
    "\"Futrelle, Mrs. Jacques Heath (Lily May Peel)\",female,35.0,1\n",
    "\"Allen, Mr. William Henry\",male,35.0,0\n",
    "\"\"\")"
   ]
  },
  {
   "cell_type": "markdown",
   "metadata": {
    "application/vnd.databricks.v1+cell": {
     "cellMetadata": {},
     "inputWidgets": {},
     "nuid": "0aac2bce-fdc6-41ca-bcd8-2e46cce71674",
     "showTitle": false,
     "title": ""
    }
   },
   "source": [
    "#### Run selected text\n",
    "\n",
    "Run highlighted text with `Shift + Control + Enter`:\n",
    "\n",
    "<img src=\"https://github.com/databricks/notebook_gallery/blob/main/assets/bordered/runselected.gif?raw=true\" width=600/>"
   ]
  },
  {
   "cell_type": "code",
   "execution_count": 0,
   "metadata": {
    "application/vnd.databricks.v1+cell": {
     "cellMetadata": {},
     "inputWidgets": {},
     "nuid": "353e3280-d4aa-4789-b6ac-396de3855345",
     "showTitle": false,
     "title": ""
    }
   },
   "outputs": [],
   "source": [
    "# Give it a try\n",
    "print(1)\n",
    "print(2)\n",
    "print(3)\n",
    "print(4)\n",
    "print(5)"
   ]
  },
  {
   "cell_type": "markdown",
   "metadata": {
    "application/vnd.databricks.v1+cell": {
     "cellMetadata": {},
     "inputWidgets": {},
     "nuid": "4a74bf34-e093-4a08-91a8-7143f24ab7b6",
     "showTitle": false,
     "title": ""
    }
   },
   "source": [
    "#### Toggle Line Comment\n",
    "<br>\n",
    "<img src=\"https://github.com/databricks/notebook_gallery/blob/main/assets/bordered/togglecomment.gif?raw=true\" width=600/>\n",
    "\n",
    "We are making commenting easier to help users create clearly documented code faster. Users can now toggle comments on a line of code or for multiple lines of code at once. To do so, select the desired lines of code and hit the shortcut for your operating system.\n",
    "\n",
    "Mac: `Cmd + /`\n",
    "\n",
    "Windows: `Ctrl + /`"
   ]
  },
  {
   "cell_type": "code",
   "execution_count": 0,
   "metadata": {
    "application/vnd.databricks.v1+cell": {
     "cellMetadata": {},
     "inputWidgets": {},
     "nuid": "d8c95c18-27d3-40c0-a129-9657ee989191",
     "showTitle": false,
     "title": ""
    }
   },
   "outputs": [],
   "source": [
    "print(1)\n",
    "print(2)\n",
    "print(3)\n",
    "print(4)\n",
    "print(5)"
   ]
  },
  {
   "cell_type": "markdown",
   "metadata": {
    "application/vnd.databricks.v1+cell": {
     "cellMetadata": {},
     "inputWidgets": {},
     "nuid": "48a7720b-cb15-453d-a901-516c268bc4a9",
     "showTitle": false,
     "title": ""
    }
   },
   "source": [
    "#### Block quotes\n",
    "<br>\n",
    "<img src=\"https://github.com/databricks/notebook_gallery/blob/main/assets/bordered/blockquotes.gif?raw=true\" width=600>\n",
    "\n",
    "Notebooks also now support block quotes if your programming language supports it. Users can use these commands to comment a whole block of code at once.\n",
    "\n",
    "Mac:\t\t`Shift+Option+A`\n",
    "\n",
    "Windows: \t`Shift+Option+A`"
   ]
  },
  {
   "cell_type": "code",
   "execution_count": 0,
   "metadata": {
    "application/vnd.databricks.v1+cell": {
     "cellMetadata": {},
     "inputWidgets": {},
     "nuid": "195f89dd-ee8e-47a0-adcc-ce78130807be",
     "showTitle": false,
     "title": ""
    }
   },
   "outputs": [],
   "source": [
    "# Use Shift+Option+A on the text within print() to put it in quotes\n",
    "print(''' this is  \n",
    "multi-line text \n",
    "that you can put in quotes with\n",
    "Shift + Option + A ''')"
   ]
  },
  {
   "cell_type": "markdown",
   "metadata": {
    "application/vnd.databricks.v1+cell": {
     "cellMetadata": {},
     "inputWidgets": {},
     "nuid": "21148f48-3523-4cd9-bb3e-9dcee1512672",
     "showTitle": false,
     "title": ""
    }
   },
   "source": [
    "### Python Formatting / Linting\n",
    "<br>\n",
    "\n",
    "<img src=\"https://github.com/databricks/notebook_gallery/blob/main/assets/bordered/pythonformatting.gif?raw=true\" width=600/>\n",
    "\n",
    "[Python Formatter Public Preview Docs](https://docs.databricks.com/notebooks/notebooks-use.html#format-code-cells)\n",
    "\n",
    "Databricks now supports Black, a PEP 8 compatible code formatter. Black formats all code the same so you spend less time formatting and more time creating what matters. All Black formatted code looks the same, regardless of what project you are reviewing, so code review goes faster too. To use Black, connect to a cluster on DBR 11.2 or later. Databricks preinstalls Black and Tokenize-rt.\n",
    "\n",
    "**To try it out, in the following cell click on the cell and then click _Edit --> Format cell(s)_ in the Notebook menu bar** ([example source](https://www.freecodecamp.org/news/auto-format-your-python-code-with-black/))."
   ]
  },
  {
   "cell_type": "code",
   "execution_count": 0,
   "metadata": {
    "application/vnd.databricks.v1+cell": {
     "cellMetadata": {},
     "inputWidgets": {},
     "nuid": "24e02b44-593e-4c5d-a2c2-7f68c8a9e0de",
     "showTitle": false,
     "title": ""
    }
   },
   "outputs": [],
   "source": [
    "# Use Cmd + Shift + F to format Python code\n",
    "def add(a,        b):\n",
    "    answer  =  a   +       b\n",
    "\n",
    "    return    answer"
   ]
  },
  {
   "cell_type": "markdown",
   "metadata": {
    "application/vnd.databricks.v1+cell": {
     "cellMetadata": {},
     "inputWidgets": {},
     "nuid": "42504ebd-c2e9-4c36-93c0-1020691aefa0",
     "showTitle": false,
     "title": ""
    }
   },
   "source": [
    "### Debugging\n",
    "\n",
    "Notebooks run on Databricks Runtime 11.2 and above support [The Python Debugger](https://docs.python.org/3/library/pdb.html) (pdb).\n",
    "\n",
    "Some examples of using pdb in a notebook:\n",
    "\n",
    "* Use `%debug` to debug from the last exception. This is helpful when you run into an unexpected error and are trying to debug the cause (similar to `pdb.pm()`).\n",
    "* Use `%pdb on` to automatically start the interactive debugger after exceptions (but before program terminates).\n",
    "\n",
    "Note that when you use these commands, you must finish using the debugger before you can run any other cell. Here are a few ways to exit the debugger:\n",
    "\n",
    "* `c` or `continue` to finish running the cell.\n",
    "* `exit` to throw an error and stop code execution.\n",
    "* Cancel the command by clicking `Cancel` next to the output box."
   ]
  },
  {
   "cell_type": "markdown",
   "metadata": {
    "application/vnd.databricks.v1+cell": {
     "cellMetadata": {},
     "inputWidgets": {},
     "nuid": "ebdc2449-3d72-4224-a050-c6ec1ed2b456",
     "showTitle": false,
     "title": ""
    }
   },
   "source": [
    "#### `%debug` : Post-mortem debugging\n",
    "To use `%debug` in Databricks notebooks:\n",
    "\n",
    "1. Run commands in the notebook until an exception is raised.\n",
    "2. Run `%debug` in a new cell. The debugger starts running in the output area of the cell.\n",
    "3. To inspect a variable, type the variable name in the input field and press **Enter**.\n",
    "4. You can change context and perform other debugger tasks, like variable inspection, using these commands. For the complete list of debugger commands, see the [pdb documentation](https://docs.python.org/3/library/pdb.html). Type the letter and then press **Enter**.\n",
    "  * `n`: next line\n",
    "  * `u`: move up 1 level out of the current stack frame\n",
    "  * `d`: move down 1 level out of the current stack frame\n",
    "5. Exit the debugger using one of the methods described in the first cell of this notebook.\n",
    "Below is an example following these steps using %debug."
   ]
  },
  {
   "cell_type": "code",
   "execution_count": 0,
   "metadata": {
    "application/vnd.databricks.v1+cell": {
     "cellMetadata": {},
     "inputWidgets": {},
     "nuid": "405c908d-d443-43b8-86de-78e575b96c1d",
     "showTitle": false,
     "title": ""
    }
   },
   "outputs": [],
   "source": [
    "class ComplexSystem1:\n",
    "  def getAccuracy(self, correct, total):\n",
    "    # ...\n",
    "    accuracy = correct / total\n",
    "    # ...\n",
    "    return accuracy\n",
    "  \n",
    "class UserTest:\n",
    "  def __init__(self, system, correct, total):\n",
    "    self.system = system\n",
    "    self.correct = correct\n",
    "    self.total = 0 # incorrectly set total!\n",
    "    \n",
    "  def printScore(self):\n",
    "    print(f\"You're score is: {self.system.getAccuracy(self.correct, self.total)}\")\n",
    "  \n",
    "test = UserTest(\n",
    "  system = ComplexSystem1(),\n",
    "  correct = 10,\n",
    "  total = 100\n",
    ")\n",
    " \n",
    "test.printScore()"
   ]
  },
  {
   "cell_type": "code",
   "execution_count": 0,
   "metadata": {
    "application/vnd.databricks.v1+cell": {
     "cellMetadata": {},
     "inputWidgets": {},
     "nuid": "fc8f3fdc-992a-438e-a97a-2a228a8096cd",
     "showTitle": false,
     "title": ""
    }
   },
   "outputs": [],
   "source": [
    "%debug"
   ]
  },
  {
   "cell_type": "markdown",
   "metadata": {
    "application/vnd.databricks.v1+cell": {
     "cellMetadata": {},
     "inputWidgets": {},
     "nuid": "8173d2d8-af1e-4beb-8492-5006fe1d73a5",
     "showTitle": false,
     "title": ""
    }
   },
   "source": [
    "#### `%pdb on` : Pre-mortem debugging\n",
    "To use `%pdb on` in Databricks notebooks:\n",
    "\n",
    "1. Turn auto pdb on by running `%pdb on` in the first cell of your notebook.\n",
    "2. Run commands in the notebook until an exception is raised. The interactive debugger starts.\n",
    "3. To inspect a variable, type the variable name in the input field and press **Enter**.\n",
    "4. You can change context and perform other debugger tasks, like variable inspection, using these commands. For the complete list of debugger commands, see the [pdb documentation](https://docs.python.org/3/library/pdb.html). Type the letter and then press **Enter**.\n",
    "  * `n`: next line\n",
    "  * `u`: move up 1 level out of the current stack frame\n",
    "  * `d`: move down 1 level out of the current stack frame\n",
    "5. Exit the debugger using one of the methods described in the first cell of this notebook.\n",
    "\n",
    "Below is an example following these steps using `%pdb on`."
   ]
  },
  {
   "cell_type": "code",
   "execution_count": 0,
   "metadata": {
    "application/vnd.databricks.v1+cell": {
     "cellMetadata": {},
     "inputWidgets": {},
     "nuid": "c3204886-a65d-4518-9392-f466e669b1b5",
     "showTitle": false,
     "title": ""
    }
   },
   "outputs": [],
   "source": [
    "%pdb on"
   ]
  },
  {
   "cell_type": "code",
   "execution_count": 0,
   "metadata": {
    "application/vnd.databricks.v1+cell": {
     "cellMetadata": {},
     "inputWidgets": {},
     "nuid": "fd1ae1e5-16db-4a01-ae52-a531a4e9d20e",
     "showTitle": false,
     "title": ""
    }
   },
   "outputs": [],
   "source": [
    "class ComplexSystem2:\n",
    "  def getAccuracy(self, correct, total):\n",
    "    # ...\n",
    "    accuracy = correct / total\n",
    "    # ...\n",
    "    return accuracy\n",
    " \n",
    "system = ComplexSystem2()\n",
    " \n",
    "## test coverage\n",
    "print(\"Tests\")\n",
    "print(system.getAccuracy(10, 100) == 0.1)\n",
    "print(system.getAccuracy(10, 0), 0)"
   ]
  },
  {
   "cell_type": "markdown",
   "metadata": {
    "application/vnd.databricks.v1+cell": {
     "cellMetadata": {},
     "inputWidgets": {},
     "nuid": "d7fa8126-0ab5-4aa8-84db-ca4346fdce1c",
     "showTitle": false,
     "title": ""
    }
   },
   "source": [
    "### Side by side diffs in revision history\n",
    "<br>\n",
    "<img src=\"https://github.com/RafiKurlansik/notebook2/blob/main/assets/diffs.gif?raw=true\" width=800>"
   ]
  },
  {
   "cell_type": "markdown",
   "metadata": {
    "application/vnd.databricks.v1+cell": {
     "cellMetadata": {},
     "inputWidgets": {},
     "nuid": "de200c6b-e24d-4348-8f22-9a740501a5e9",
     "showTitle": false,
     "title": ""
    }
   },
   "source": [
    "### Syntax Highlighting\n",
    "Having properly highlighted code makes coding, editing, and troubleshooting much faster. Now, **Notebooks will recognize and highlight SQL code in Python code cells for you.** Previously users would need to parse through the code manually to ensure it was executing as intended. At a glance, users can now ensure that the proper SQL terms are included and sequenced in the proper order."
   ]
  },
  {
   "cell_type": "code",
   "execution_count": 0,
   "metadata": {
    "application/vnd.databricks.v1+cell": {
     "cellMetadata": {},
     "inputWidgets": {},
     "nuid": "9c5ccb51-5828-4280-9749-30a996fd65ab",
     "showTitle": false,
     "title": ""
    }
   },
   "outputs": [],
   "source": [
    "df = spark.sql('''\n",
    "select carat, cut, color, price \n",
    "from default.diamonds\n",
    "where price < 350\n",
    "''')"
   ]
  }
 ],
 "metadata": {
  "application/vnd.databricks.v1+notebook": {
   "dashboards": [],
   "language": "python",
   "notebookMetadata": {
    "pythonIndentUnit": 2
   },
   "notebookName": "01 [ipynb] Notebook 2.0 Feature Gallery",
   "notebookOrigID": 3753021890033713,
   "widgets": {}
  }
 },
 "nbformat": 4,
 "nbformat_minor": 0
}
