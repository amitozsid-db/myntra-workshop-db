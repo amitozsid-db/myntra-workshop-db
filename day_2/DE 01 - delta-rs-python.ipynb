{
 "cells": [
  {
   "cell_type": "code",
   "execution_count": 0,
   "metadata": {
    "application/vnd.databricks.v1+cell": {
     "cellMetadata": {
      "byteLimit": 2048000,
      "rowLimit": 10000
     },
     "inputWidgets": {},
     "nuid": "462057e1-1079-482c-a44b-dd09e73efbe3",
     "showTitle": false,
     "title": ""
    }
   },
   "outputs": [],
   "source": [
    "%pip install deltalake"
   ]
  },
  {
   "cell_type": "code",
   "execution_count": 0,
   "metadata": {
    "application/vnd.databricks.v1+cell": {
     "cellMetadata": {
      "byteLimit": 2048000,
      "rowLimit": 10000
     },
     "inputWidgets": {},
     "nuid": "7529bee7-69b5-47ed-9e46-ae949248d831",
     "showTitle": false,
     "title": ""
    }
   },
   "outputs": [],
   "source": [
    "import pathlib\n",
    "\n",
    "import deltalake as dl\n",
    "import pandas as pd\n",
    "import pyarrow.dataset as ds"
   ]
  },
  {
   "cell_type": "code",
   "execution_count": 0,
   "metadata": {
    "application/vnd.databricks.v1+cell": {
     "cellMetadata": {
      "byteLimit": 2048000,
      "rowLimit": 10000
     },
     "inputWidgets": {},
     "nuid": "0beb447f-7f98-4c3f-b0f2-49bd2987a0f9",
     "showTitle": false,
     "title": ""
    }
   },
   "outputs": [],
   "source": [
    "cwd = pathlib.Path().resolve()"
   ]
  },
  {
   "cell_type": "markdown",
   "metadata": {
    "application/vnd.databricks.v1+cell": {
     "cellMetadata": {
      "byteLimit": 2048000,
      "rowLimit": 10000
     },
     "inputWidgets": {},
     "nuid": "4679cd8c-0034-4145-8fc9-d91a458b6c75",
     "showTitle": false,
     "title": ""
    }
   },
   "source": [
    "## Create a Delta Lake\n",
    "\n",
    "Let's create a pandas DataFrame and then write out the data to a Delta Lake."
   ]
  },
  {
   "cell_type": "code",
   "execution_count": 0,
   "metadata": {
    "application/vnd.databricks.v1+cell": {
     "cellMetadata": {
      "byteLimit": 2048000,
      "rowLimit": 10000
     },
     "inputWidgets": {},
     "nuid": "a786644b-80b1-4111-902e-47ed0f1aa64b",
     "showTitle": false,
     "title": ""
    }
   },
   "outputs": [],
   "source": [
    "df = pd.DataFrame({\"num\": [1, 2, 3], \"letter\": [\"a\", \"b\", \"c\"]})"
   ]
  },
  {
   "cell_type": "code",
   "execution_count": 0,
   "metadata": {
    "application/vnd.databricks.v1+cell": {
     "cellMetadata": {
      "byteLimit": 2048000,
      "rowLimit": 10000
     },
     "inputWidgets": {},
     "nuid": "1fce27e8-444d-4ef1-b3f8-0ba57d4f6a07",
     "showTitle": false,
     "title": ""
    }
   },
   "outputs": [],
   "source": [
    "dl.writer.write_deltalake(\"/tmp/delta-table\", df)"
   ]
  },
  {
   "cell_type": "code",
   "execution_count": 0,
   "metadata": {
    "application/vnd.databricks.v1+cell": {
     "cellMetadata": {
      "byteLimit": 2048000,
      "rowLimit": 10000
     },
     "inputWidgets": {},
     "nuid": "feb34cbb-958e-4656-a88e-6fc96f52bf45",
     "showTitle": false,
     "title": ""
    }
   },
   "outputs": [],
   "source": [
    "%sh\n",
    "ls /tmp/delta-table"
   ]
  },
  {
   "cell_type": "markdown",
   "metadata": {
    "application/vnd.databricks.v1+cell": {
     "cellMetadata": {
      "byteLimit": 2048000,
      "rowLimit": 10000
     },
     "inputWidgets": {},
     "nuid": "95ce8a1c-6116-456c-8954-192f81433b86",
     "showTitle": false,
     "title": ""
    }
   },
   "source": [
    "You can inspect the contents of the `tmp/delta-table` folder to begin understanding how Delta Lake works.  Here's what the folder will contain:\n",
    "\n",
    "```\n",
    "tmp/\n",
    "  delta-table/\n",
    "    _delta_log/\n",
    "      00000000000000000000.json\n",
    "    0-3f43d8ae-40a5-4417-8a00-ae55392a662f-0.parquet\n",
    "```\n",
    "\n",
    "`tmp/delta-table` contains a `delta_log` which is often refered to as the \"transaction log\".  The transaction log tracks the files that have been added and removed from the Delta Lake, along with other metadata.\n",
    "\n",
    "The Parquet file contains the actual data that was written to the Delta Lake.\n",
    "\n",
    "You don't need to have a detailed understanding of how the transaction log works.  A high level conceptual grasp is all you need to understand how Delta Lake provides you with useful data management features."
   ]
  },
  {
   "cell_type": "markdown",
   "metadata": {
    "application/vnd.databricks.v1+cell": {
     "cellMetadata": {
      "byteLimit": 2048000,
      "rowLimit": 10000
     },
     "inputWidgets": {},
     "nuid": "85b0053d-d1ed-47cc-b702-b46b8c0816f6",
     "showTitle": false,
     "title": ""
    }
   },
   "source": [
    "## Read a Delta Lake\n",
    "\n",
    "Let's read the Delta Lake you created into a pandas DataFrame and print out the contents."
   ]
  },
  {
   "cell_type": "code",
   "execution_count": 0,
   "metadata": {
    "application/vnd.databricks.v1+cell": {
     "cellMetadata": {
      "byteLimit": 2048000,
      "rowLimit": 10000
     },
     "inputWidgets": {},
     "nuid": "81cbf6d7-3456-41e4-b638-4c37a4761d84",
     "showTitle": false,
     "title": ""
    }
   },
   "outputs": [],
   "source": [
    "dt = dl.DeltaTable(\"/tmp/delta-table\")"
   ]
  },
  {
   "cell_type": "code",
   "execution_count": 0,
   "metadata": {
    "application/vnd.databricks.v1+cell": {
     "cellMetadata": {
      "byteLimit": 2048000,
      "rowLimit": 10000
     },
     "inputWidgets": {},
     "nuid": "9f97fedd-036b-48b0-97db-a91cd7526c47",
     "showTitle": false,
     "title": ""
    }
   },
   "outputs": [],
   "source": [
    "dt.to_pandas()"
   ]
  },
  {
   "cell_type": "code",
   "execution_count": 0,
   "metadata": {
    "application/vnd.databricks.v1+cell": {
     "cellMetadata": {
      "byteLimit": 2048000,
      "rowLimit": 10000
     },
     "inputWidgets": {},
     "nuid": "9ab78f86-cf10-438b-8b11-33a088f65e7c",
     "showTitle": false,
     "title": ""
    }
   },
   "outputs": [],
   "source": [
    "dt.version()"
   ]
  },
  {
   "cell_type": "markdown",
   "metadata": {
    "application/vnd.databricks.v1+cell": {
     "cellMetadata": {
      "byteLimit": 2048000,
      "rowLimit": 10000
     },
     "inputWidgets": {},
     "nuid": "83506743-3df0-4c1a-ae28-faf65b2a2550",
     "showTitle": false,
     "title": ""
    }
   },
   "source": [
    "After the first data insert, the Delta Lake is at \"version 0\".  Let's add some more data to the Delta Lake and see how the version gets updated after another write transaction is performed."
   ]
  },
  {
   "cell_type": "markdown",
   "metadata": {
    "application/vnd.databricks.v1+cell": {
     "cellMetadata": {
      "byteLimit": 2048000,
      "rowLimit": 10000
     },
     "inputWidgets": {},
     "nuid": "1e5ca415-0134-4f14-a125-f38b95404b1f",
     "showTitle": false,
     "title": ""
    }
   },
   "source": [
    "## Insert more data into Delta Lake\n",
    "\n",
    "Create another pandas DataFrame with the same schema and insert it to the Delta Lake."
   ]
  },
  {
   "cell_type": "code",
   "execution_count": 0,
   "metadata": {
    "application/vnd.databricks.v1+cell": {
     "cellMetadata": {
      "byteLimit": 2048000,
      "rowLimit": 10000
     },
     "inputWidgets": {},
     "nuid": "a7a8da6a-ee08-4be3-8fbd-a94e0c1c4df1",
     "showTitle": false,
     "title": ""
    }
   },
   "outputs": [],
   "source": [
    "df = pd.DataFrame({\"num\": [77, 88, 99], \"letter\": [\"x\", \"y\", \"z\"]})"
   ]
  },
  {
   "cell_type": "markdown",
   "metadata": {
    "application/vnd.databricks.v1+cell": {
     "cellMetadata": {
      "byteLimit": 2048000,
      "rowLimit": 10000
     },
     "inputWidgets": {},
     "nuid": "634b97ad-c5c5-4a73-bed7-1e73d73d9640",
     "showTitle": false,
     "title": ""
    }
   },
   "source": [
    "The Delta Lake already exists, so we need to set the write `mode=\"append\"` to add additional data."
   ]
  },
  {
   "cell_type": "code",
   "execution_count": 0,
   "metadata": {
    "application/vnd.databricks.v1+cell": {
     "cellMetadata": {
      "byteLimit": 2048000,
      "rowLimit": 10000
     },
     "inputWidgets": {},
     "nuid": "2e63b4bd-a3f3-4ba3-b98d-5a8346d1049c",
     "showTitle": false,
     "title": ""
    }
   },
   "outputs": [],
   "source": [
    "dl.writer.write_deltalake(\"/tmp/delta-table\", df, mode=\"append\")"
   ]
  },
  {
   "cell_type": "markdown",
   "metadata": {
    "application/vnd.databricks.v1+cell": {
     "cellMetadata": {
      "byteLimit": 2048000,
      "rowLimit": 10000
     },
     "inputWidgets": {},
     "nuid": "18d8f625-5dce-4a16-a996-e01729cb5f19",
     "showTitle": false,
     "title": ""
    }
   },
   "source": [
    "Let's read the Delta Lake into a pandas DataFrame and confirm it contains the data from both the first and second write transactions."
   ]
  },
  {
   "cell_type": "code",
   "execution_count": 0,
   "metadata": {
    "application/vnd.databricks.v1+cell": {
     "cellMetadata": {
      "byteLimit": 2048000,
      "rowLimit": 10000
     },
     "inputWidgets": {},
     "nuid": "30ff1eda-da8e-42b4-8cdd-3c493988a0a9",
     "showTitle": false,
     "title": ""
    }
   },
   "outputs": [],
   "source": [
    "dt = dl.DeltaTable(\"/tmp/delta-table\")"
   ]
  },
  {
   "cell_type": "code",
   "execution_count": 0,
   "metadata": {
    "application/vnd.databricks.v1+cell": {
     "cellMetadata": {
      "byteLimit": 2048000,
      "rowLimit": 10000
     },
     "inputWidgets": {},
     "nuid": "503bd8ba-4a5a-4898-be50-7da645228503",
     "showTitle": false,
     "title": ""
    }
   },
   "outputs": [],
   "source": [
    "dt.to_pandas()"
   ]
  },
  {
   "cell_type": "markdown",
   "metadata": {
    "application/vnd.databricks.v1+cell": {
     "cellMetadata": {
      "byteLimit": 2048000,
      "rowLimit": 10000
     },
     "inputWidgets": {},
     "nuid": "01b6e3eb-85b5-4e07-b4b0-dd5d178e57dd",
     "showTitle": false,
     "title": ""
    }
   },
   "source": [
    "After the first write transaction, the Delta Lake was at \"version 0\".  Now, after the second write transaction, the Delta Lake is at \"version 1\"."
   ]
  },
  {
   "cell_type": "code",
   "execution_count": 0,
   "metadata": {
    "application/vnd.databricks.v1+cell": {
     "cellMetadata": {
      "byteLimit": 2048000,
      "rowLimit": 10000
     },
     "inputWidgets": {},
     "nuid": "30867f50-2fea-4625-a93a-06d13c76ad23",
     "showTitle": false,
     "title": ""
    }
   },
   "outputs": [],
   "source": [
    "dt.version()"
   ]
  },
  {
   "cell_type": "markdown",
   "metadata": {
    "application/vnd.databricks.v1+cell": {
     "cellMetadata": {
      "byteLimit": 2048000,
      "rowLimit": 10000
     },
     "inputWidgets": {},
     "nuid": "0403e754-621c-4b06-8e32-4a265696185e",
     "showTitle": false,
     "title": ""
    }
   },
   "source": [
    "## Time travel to previous version of data\n",
    "\n",
    "Let's travel back in time and inspect the content of the Delta Lake at \"version 0\"."
   ]
  },
  {
   "cell_type": "code",
   "execution_count": 0,
   "metadata": {
    "application/vnd.databricks.v1+cell": {
     "cellMetadata": {
      "byteLimit": 2048000,
      "rowLimit": 10000
     },
     "inputWidgets": {},
     "nuid": "b836646f-160d-49a4-b53b-80ce914ceccf",
     "showTitle": false,
     "title": ""
    }
   },
   "outputs": [],
   "source": [
    "dt = dl.DeltaTable(\"/tmp/delta-table\", version=0)"
   ]
  },
  {
   "cell_type": "code",
   "execution_count": 0,
   "metadata": {
    "application/vnd.databricks.v1+cell": {
     "cellMetadata": {
      "byteLimit": 2048000,
      "rowLimit": 10000
     },
     "inputWidgets": {},
     "nuid": "99a1b545-ca01-406c-b972-e9299405b19a",
     "showTitle": false,
     "title": ""
    }
   },
   "outputs": [],
   "source": [
    "dt.to_pandas()"
   ]
  },
  {
   "cell_type": "markdown",
   "metadata": {
    "application/vnd.databricks.v1+cell": {
     "cellMetadata": {
      "byteLimit": 2048000,
      "rowLimit": 10000
     },
     "inputWidgets": {},
     "nuid": "1d8f6516-1d89-4a16-aa12-0493158da1a3",
     "showTitle": false,
     "title": ""
    }
   },
   "source": [
    "Wow!  That's cool!\n",
    "\n",
    "We performed two write transactions and were able to travel back in time and view the contents of the Delta Lake before the second write transaction was performed.  This is an incredibly powerful and useful feature.\n",
    "\n",
    "Delta Lake gives you time travel for free!"
   ]
  },
  {
   "cell_type": "markdown",
   "metadata": {
    "application/vnd.databricks.v1+cell": {
     "cellMetadata": {
      "byteLimit": 2048000,
      "rowLimit": 10000
     },
     "inputWidgets": {},
     "nuid": "29cbc9b5-0b99-4b90-95db-19cb403bb01b",
     "showTitle": false,
     "title": ""
    }
   },
   "source": [
    "## Schema enforcement"
   ]
  },
  {
   "cell_type": "markdown",
   "metadata": {
    "application/vnd.databricks.v1+cell": {
     "cellMetadata": {
      "byteLimit": 2048000,
      "rowLimit": 10000
     },
     "inputWidgets": {},
     "nuid": "642ce817-0c8a-4fbf-85db-c2c443c3ab88",
     "showTitle": false,
     "title": ""
    }
   },
   "source": [
    "Schema enforcement is enabled by default.  If you try to append data to a Delta Lake that doesn't have the same schema, it'll error out with a descriptive message detailing the schema differences."
   ]
  },
  {
   "cell_type": "code",
   "execution_count": 0,
   "metadata": {
    "application/vnd.databricks.v1+cell": {
     "cellMetadata": {
      "byteLimit": 2048000,
      "rowLimit": 10000
     },
     "inputWidgets": {},
     "nuid": "12ef8f2a-e50b-42af-a33b-09525e11aaec",
     "showTitle": false,
     "title": ""
    }
   },
   "outputs": [],
   "source": [
    "df = pd.DataFrame({\"name\": [\"bob\", \"denise\"], \"age\": [64, 43]})"
   ]
  },
  {
   "cell_type": "code",
   "execution_count": 0,
   "metadata": {
    "application/vnd.databricks.v1+cell": {
     "cellMetadata": {
      "byteLimit": 2048000,
      "rowLimit": 10000
     },
     "inputWidgets": {},
     "nuid": "8229fc24-1729-4d49-b0d4-9b8ccc4e9205",
     "showTitle": false,
     "title": ""
    }
   },
   "outputs": [],
   "source": [
    "dl.writer.write_deltalake(f\"/tmp/delta-table\", df, mode=\"append\")"
   ]
  },
  {
   "cell_type": "code",
   "execution_count": 0,
   "metadata": {
    "application/vnd.databricks.v1+cell": {
     "cellMetadata": {
      "byteLimit": 2048000,
      "rowLimit": 10000
     },
     "inputWidgets": {},
     "nuid": "13bcb5ca-5543-4c86-8a90-01a311c3680d",
     "showTitle": false,
     "title": ""
    }
   },
   "outputs": [],
   "source": [
    "dt = dl.DeltaTable(\"/tmp/delta-table\")"
   ]
  },
  {
   "cell_type": "code",
   "execution_count": 0,
   "metadata": {
    "application/vnd.databricks.v1+cell": {
     "cellMetadata": {
      "byteLimit": 2048000,
      "rowLimit": 10000
     },
     "inputWidgets": {},
     "nuid": "fe48b1a0-13a3-42ac-ab4d-e1800b3cd9ca",
     "showTitle": false,
     "title": ""
    }
   },
   "outputs": [],
   "source": [
    "dt.to_pandas()"
   ]
  },
  {
   "cell_type": "markdown",
   "metadata": {
    "application/vnd.databricks.v1+cell": {
     "cellMetadata": {
      "byteLimit": 2048000,
      "rowLimit": 10000
     },
     "inputWidgets": {},
     "nuid": "e36aa160-da92-4976-801c-2fc6e2f1f564",
     "showTitle": false,
     "title": ""
    }
   },
   "source": [
    "## Delete rows\n",
    "\n",
    "This section demonstrates how you can delete rows of data from the Delta Lake."
   ]
  },
  {
   "cell_type": "code",
   "execution_count": 0,
   "metadata": {
    "application/vnd.databricks.v1+cell": {
     "cellMetadata": {
      "byteLimit": 2048000,
      "rowLimit": 10000
     },
     "inputWidgets": {},
     "nuid": "1d78ad73-056e-42be-9117-b079a7ec1c2b",
     "showTitle": false,
     "title": ""
    }
   },
   "outputs": [],
   "source": [
    "dt = dl.DeltaTable(\"/tmp/delta-table\")"
   ]
  },
  {
   "cell_type": "markdown",
   "metadata": {
    "application/vnd.databricks.v1+cell": {
     "cellMetadata": {
      "byteLimit": 2048000,
      "rowLimit": 10000
     },
     "inputWidgets": {},
     "nuid": "34bdb138-e496-4c16-87ec-f74da341a506",
     "showTitle": false,
     "title": ""
    }
   },
   "source": [
    "Convert the DeltaTable to a PyArrow dataset, so we can perform a filtering operation."
   ]
  },
  {
   "cell_type": "code",
   "execution_count": 0,
   "metadata": {
    "application/vnd.databricks.v1+cell": {
     "cellMetadata": {
      "byteLimit": 2048000,
      "rowLimit": 10000
     },
     "inputWidgets": {},
     "nuid": "0d1498f5-8840-44f6-a6b7-18d5b2a384aa",
     "showTitle": false,
     "title": ""
    }
   },
   "outputs": [],
   "source": [
    "dataset = dt.to_pyarrow_dataset()"
   ]
  },
  {
   "cell_type": "markdown",
   "metadata": {
    "application/vnd.databricks.v1+cell": {
     "cellMetadata": {
      "byteLimit": 2048000,
      "rowLimit": 10000
     },
     "inputWidgets": {},
     "nuid": "c5d6c4c5-d9bd-4a7f-b8b6-a69c74e5803e",
     "showTitle": false,
     "title": ""
    }
   },
   "source": [
    "Filter out all the values that are less than 1 and greater than 99"
   ]
  },
  {
   "cell_type": "code",
   "execution_count": 0,
   "metadata": {
    "application/vnd.databricks.v1+cell": {
     "cellMetadata": {
      "byteLimit": 2048000,
      "rowLimit": 10000
     },
     "inputWidgets": {},
     "nuid": "e4a31524-8f06-4649-8171-9c65b146cbb3",
     "showTitle": false,
     "title": ""
    }
   },
   "outputs": [],
   "source": [
    "condition = (ds.field(\"num\") > 1.0) & (ds.field(\"num\") < 99.0)"
   ]
  },
  {
   "cell_type": "code",
   "execution_count": 0,
   "metadata": {
    "application/vnd.databricks.v1+cell": {
     "cellMetadata": {
      "byteLimit": 2048000,
      "rowLimit": 10000
     },
     "inputWidgets": {},
     "nuid": "1059ce4e-80af-4bfd-a5d9-96300ba74e64",
     "showTitle": false,
     "title": ""
    }
   },
   "outputs": [],
   "source": [
    "filtered = dataset.to_table(filter=condition).to_pandas()"
   ]
  },
  {
   "cell_type": "code",
   "execution_count": 0,
   "metadata": {
    "application/vnd.databricks.v1+cell": {
     "cellMetadata": {
      "byteLimit": 2048000,
      "rowLimit": 10000
     },
     "inputWidgets": {},
     "nuid": "212843d7-424e-48f8-9203-d0cc76ee01a1",
     "showTitle": false,
     "title": ""
    }
   },
   "outputs": [],
   "source": [
    "filtered"
   ]
  },
  {
   "cell_type": "markdown",
   "metadata": {
    "application/vnd.databricks.v1+cell": {
     "cellMetadata": {
      "byteLimit": 2048000,
      "rowLimit": 10000
     },
     "inputWidgets": {},
     "nuid": "ef418f37-64e6-4469-8f02-6c73d26b8cc8",
     "showTitle": false,
     "title": ""
    }
   },
   "source": [
    "Set the save mode to overwrite to update the Delta Lake to only include the filtered data."
   ]
  },
  {
   "cell_type": "code",
   "execution_count": 0,
   "metadata": {
    "application/vnd.databricks.v1+cell": {
     "cellMetadata": {
      "byteLimit": 2048000,
      "rowLimit": 10000
     },
     "inputWidgets": {},
     "nuid": "b2d45a38-8ac9-45a5-974f-e35ea03fa22d",
     "showTitle": false,
     "title": ""
    }
   },
   "outputs": [],
   "source": [
    "dl.writer.write_deltalake(f\"/tmp/delta-table\", filtered, mode=\"overwrite\")"
   ]
  },
  {
   "cell_type": "markdown",
   "metadata": {
    "application/vnd.databricks.v1+cell": {
     "cellMetadata": {
      "byteLimit": 2048000,
      "rowLimit": 10000
     },
     "inputWidgets": {},
     "nuid": "93e8cad8-4dd9-432a-9296-a328c6e25e9e",
     "showTitle": false,
     "title": ""
    }
   },
   "source": [
    "Read in the latest version of the Delta Lake to a pandas DataFrame to confirm that it only includes the filtered data."
   ]
  },
  {
   "cell_type": "code",
   "execution_count": 0,
   "metadata": {
    "application/vnd.databricks.v1+cell": {
     "cellMetadata": {
      "byteLimit": 2048000,
      "rowLimit": 10000
     },
     "inputWidgets": {},
     "nuid": "bcf08910-de17-43bb-9713-e4b720114bae",
     "showTitle": false,
     "title": ""
    }
   },
   "outputs": [],
   "source": [
    "dt = dl.DeltaTable(\"/tmp/delta-table\")"
   ]
  },
  {
   "cell_type": "code",
   "execution_count": 0,
   "metadata": {
    "application/vnd.databricks.v1+cell": {
     "cellMetadata": {
      "byteLimit": 2048000,
      "rowLimit": 10000
     },
     "inputWidgets": {},
     "nuid": "d20d8855-3c1f-4f55-a053-1775a85b4f56",
     "showTitle": false,
     "title": ""
    }
   },
   "outputs": [],
   "source": [
    "dt.to_pandas()"
   ]
  },
  {
   "cell_type": "markdown",
   "metadata": {
    "application/vnd.databricks.v1+cell": {
     "cellMetadata": {
      "byteLimit": 2048000,
      "rowLimit": 10000
     },
     "inputWidgets": {},
     "nuid": "71540771-fd1b-4474-838a-2db6cbea4d5b",
     "showTitle": false,
     "title": ""
    }
   },
   "source": [
    "## Vacuum old data files\n",
    "\n",
    "Delta Lake doesn't delete stale file from disk by default.  We just performed an overwrite transaction which means that all the data for the latest version of the Delta Lake is in a new file.  When we read in the latest version of the Delta Lake, it'll just read the new file.  Let's take a look."
   ]
  },
  {
   "cell_type": "code",
   "execution_count": 0,
   "metadata": {
    "application/vnd.databricks.v1+cell": {
     "cellMetadata": {
      "byteLimit": 2048000,
      "rowLimit": 10000
     },
     "inputWidgets": {},
     "nuid": "e6baca00-4a1c-4beb-94c3-9b554f256889",
     "showTitle": false,
     "title": ""
    }
   },
   "outputs": [],
   "source": [
    "dt = dl.DeltaTable(\"/tmp/delta-table\")"
   ]
  },
  {
   "cell_type": "code",
   "execution_count": 0,
   "metadata": {
    "application/vnd.databricks.v1+cell": {
     "cellMetadata": {
      "byteLimit": 2048000,
      "rowLimit": 10000
     },
     "inputWidgets": {},
     "nuid": "a1269002-530b-4d84-953d-e0335dd92ae4",
     "showTitle": false,
     "title": ""
    }
   },
   "outputs": [],
   "source": [
    "dt.files()"
   ]
  },
  {
   "cell_type": "code",
   "execution_count": 0,
   "metadata": {
    "application/vnd.databricks.v1+cell": {
     "cellMetadata": {
      "byteLimit": 2048000,
      "rowLimit": 10000
     },
     "inputWidgets": {},
     "nuid": "af429c4e-8ca8-48bd-9e3c-b95d18f6c335",
     "showTitle": false,
     "title": ""
    }
   },
   "outputs": [],
   "source": [
    "dt.to_pandas()"
   ]
  },
  {
   "cell_type": "markdown",
   "metadata": {
    "application/vnd.databricks.v1+cell": {
     "cellMetadata": {
      "byteLimit": 2048000,
      "rowLimit": 10000
     },
     "inputWidgets": {},
     "nuid": "abac0e88-fd52-4cba-b19f-4b425bc73a62",
     "showTitle": false,
     "title": ""
    }
   },
   "source": [
    "We have several Parquet files on disk, but only one is being read for the current version of the Delta Lake.  Let's take a look at all the Parquet files currently in the Delta Lake."
   ]
  },
  {
   "cell_type": "code",
   "execution_count": 0,
   "metadata": {
    "application/vnd.databricks.v1+cell": {
     "cellMetadata": {
      "byteLimit": 2048000,
      "rowLimit": 10000
     },
     "inputWidgets": {},
     "nuid": "8a05bf8a-1ac3-4edf-8bc6-e234f275958b",
     "showTitle": false,
     "title": ""
    }
   },
   "outputs": [],
   "source": [
    "! ls /tmp/delta-table/*.parquet"
   ]
  },
  {
   "cell_type": "markdown",
   "metadata": {
    "application/vnd.databricks.v1+cell": {
     "cellMetadata": {
      "byteLimit": 2048000,
      "rowLimit": 10000
     },
     "inputWidgets": {},
     "nuid": "6869fcf1-2bbb-41d0-ab90-e072f8d4616b",
     "showTitle": false,
     "title": ""
    }
   },
   "source": [
    "The \"stale\" Parquet files are what allow for time travel.  Let's time travel back to \"version 1\" of the Delta Lake."
   ]
  },
  {
   "cell_type": "code",
   "execution_count": 0,
   "metadata": {
    "application/vnd.databricks.v1+cell": {
     "cellMetadata": {
      "byteLimit": 2048000,
      "rowLimit": 10000
     },
     "inputWidgets": {},
     "nuid": "55fbaa69-1f31-4fc2-aab2-58ecb33671a1",
     "showTitle": false,
     "title": ""
    }
   },
   "outputs": [],
   "source": [
    "dt = dl.DeltaTable(\"/tmp/delta-table\", version=1)"
   ]
  },
  {
   "cell_type": "code",
   "execution_count": 0,
   "metadata": {
    "application/vnd.databricks.v1+cell": {
     "cellMetadata": {
      "byteLimit": 2048000,
      "rowLimit": 10000
     },
     "inputWidgets": {},
     "nuid": "be2be880-eb08-4022-9f62-4124daa4ef83",
     "showTitle": false,
     "title": ""
    }
   },
   "outputs": [],
   "source": [
    "dt.files()"
   ]
  },
  {
   "cell_type": "code",
   "execution_count": 0,
   "metadata": {
    "application/vnd.databricks.v1+cell": {
     "cellMetadata": {
      "byteLimit": 2048000,
      "rowLimit": 10000
     },
     "inputWidgets": {},
     "nuid": "c1b9d83e-96a1-47f1-adba-f626dd9a769d",
     "showTitle": false,
     "title": ""
    }
   },
   "outputs": [],
   "source": [
    "dt.to_pandas()"
   ]
  },
  {
   "cell_type": "markdown",
   "metadata": {
    "application/vnd.databricks.v1+cell": {
     "cellMetadata": {
      "byteLimit": 2048000,
      "rowLimit": 10000
     },
     "inputWidgets": {},
     "nuid": "206994ac-97a2-4e40-ba49-9c122989ea6d",
     "showTitle": false,
     "title": ""
    }
   },
   "source": [
    "When we time travel back to version 1, we're reading entirely different files than when we read the latest version of the the Delta Lake.\n",
    "\n",
    "The legacy files are what allow you to time travel.\n",
    "\n",
    "If you don't want to time travel, you can delete the legacy files with the `vacuum()` command."
   ]
  },
  {
   "cell_type": "code",
   "execution_count": 0,
   "metadata": {
    "application/vnd.databricks.v1+cell": {
     "cellMetadata": {
      "byteLimit": 2048000,
      "rowLimit": 10000
     },
     "inputWidgets": {},
     "nuid": "c856fdfd-1699-4ac7-8b9d-26067f1fc65a",
     "showTitle": false,
     "title": ""
    }
   },
   "outputs": [],
   "source": [
    "dt = dl.DeltaTable(\"/tmp/delta-table\")"
   ]
  },
  {
   "cell_type": "markdown",
   "metadata": {
    "application/vnd.databricks.v1+cell": {
     "cellMetadata": {
      "byteLimit": 2048000,
      "rowLimit": 10000
     },
     "inputWidgets": {},
     "nuid": "a5b248ef-25f5-4801-9bf9-d25e9643408a",
     "showTitle": false,
     "title": ""
    }
   },
   "source": [
    "Vacuum is run in \"dry run\" mode by default."
   ]
  },
  {
   "cell_type": "code",
   "execution_count": 0,
   "metadata": {
    "application/vnd.databricks.v1+cell": {
     "cellMetadata": {
      "byteLimit": 2048000,
      "rowLimit": 10000
     },
     "inputWidgets": {},
     "nuid": "432b29fc-860a-452f-ad37-ca920c63246c",
     "showTitle": false,
     "title": ""
    }
   },
   "outputs": [],
   "source": [
    "dt.vacuum(retention_hours=0, enforce_retention_duration=False)"
   ]
  },
  {
   "cell_type": "markdown",
   "metadata": {
    "application/vnd.databricks.v1+cell": {
     "cellMetadata": {
      "byteLimit": 2048000,
      "rowLimit": 10000
     },
     "inputWidgets": {},
     "nuid": "a8f80438-6afa-44a5-8bb5-ce184e73f6e8",
     "showTitle": false,
     "title": ""
    }
   },
   "source": [
    "The files aren't actually deleted when the code is executed in dry run mode."
   ]
  },
  {
   "cell_type": "code",
   "execution_count": 0,
   "metadata": {
    "application/vnd.databricks.v1+cell": {
     "cellMetadata": {
      "byteLimit": 2048000,
      "rowLimit": 10000
     },
     "inputWidgets": {},
     "nuid": "e99dcfa0-ae80-411a-9952-7d504cd0086b",
     "showTitle": false,
     "title": ""
    }
   },
   "outputs": [],
   "source": [
    "! ls tmp/delta-table/*.parquet"
   ]
  },
  {
   "cell_type": "markdown",
   "metadata": {
    "application/vnd.databricks.v1+cell": {
     "cellMetadata": {
      "byteLimit": 2048000,
      "rowLimit": 10000
     },
     "inputWidgets": {},
     "nuid": "fa8886cd-bb78-4d71-bf29-c1bf4bb83cfe",
     "showTitle": false,
     "title": ""
    }
   },
   "source": [
    "Explicitly set `dry_run` to `False` to actually delete the files."
   ]
  },
  {
   "cell_type": "code",
   "execution_count": 0,
   "metadata": {
    "application/vnd.databricks.v1+cell": {
     "cellMetadata": {
      "byteLimit": 2048000,
      "rowLimit": 10000
     },
     "inputWidgets": {},
     "nuid": "8c2c8043-383f-4879-8269-0fa1ef2d7ea6",
     "showTitle": false,
     "title": ""
    }
   },
   "outputs": [],
   "source": [
    "dt.vacuum(retention_hours=0, enforce_retention_duration=False, dry_run=False)"
   ]
  },
  {
   "cell_type": "code",
   "execution_count": 0,
   "metadata": {
    "application/vnd.databricks.v1+cell": {
     "cellMetadata": {
      "byteLimit": 2048000,
      "rowLimit": 10000
     },
     "inputWidgets": {},
     "nuid": "e2074ff0-8664-47d5-8c93-b7a1ccd5e90d",
     "showTitle": false,
     "title": ""
    }
   },
   "outputs": [],
   "source": [
    "! ls /tmp/delta-table/*.parquet"
   ]
  },
  {
   "cell_type": "markdown",
   "metadata": {
    "application/vnd.databricks.v1+cell": {
     "cellMetadata": {
      "byteLimit": 2048000,
      "rowLimit": 10000
     },
     "inputWidgets": {},
     "nuid": "a299a871-0537-4def-8771-3564eca7adc4",
     "showTitle": false,
     "title": ""
    }
   },
   "source": [
    "## Cleanup\n",
    "\n",
    "Let's delete the Delta Lake now that we're done with this demo."
   ]
  },
  {
   "cell_type": "code",
   "execution_count": 0,
   "metadata": {
    "application/vnd.databricks.v1+cell": {
     "cellMetadata": {
      "byteLimit": 2048000,
      "rowLimit": 10000
     },
     "inputWidgets": {},
     "nuid": "699c829e-436d-4a32-9a49-ddb122faa2f1",
     "showTitle": false,
     "title": ""
    }
   },
   "outputs": [],
   "source": [
    "! rm -rf /tmp/delta-table/"
   ]
  }
 ],
 "metadata": {
  "application/vnd.databricks.v1+notebook": {
   "dashboards": [],
   "language": "python",
   "notebookMetadata": {
    "mostRecentlyExecutedCommandWithImplicitDF": {
     "commandId": 3753021890051408,
     "dataframes": [
      "_sqldf"
     ]
    },
    "pythonIndentUnit": 2
   },
   "notebookName": "DE 01 - delta-rs-python",
   "notebookOrigID": 3753021890051323,
   "widgets": {}
  },
  "kernelspec": {
   "display_name": "Python [conda env:mr-delta-rs] *",
   "language": "python",
   "name": "conda-env-mr-delta-rs-py"
  },
  "language_info": {
   "codemirror_mode": {
    "name": "ipython",
    "version": 3
   },
   "file_extension": ".py",
   "mimetype": "text/x-python",
   "name": "python",
   "nbconvert_exporter": "python",
   "pygments_lexer": "ipython3",
   "version": "3.9.13"
  }
 },
 "nbformat": 4,
 "nbformat_minor": 0
}
